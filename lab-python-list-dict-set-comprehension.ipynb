{
 "cells": [
  {
   "cell_type": "code",
   "execution_count": 1,
   "id": "7b4be6cf-fbfb-4ec7-b73f-d9285956d910",
   "metadata": {},
   "outputs": [],
   "source": [
    "products = ['t-shirt', 'mug', 'hat', 'book', 'keychain']\n",
    "price_list={'t-shirt':20, 'mug':9.95, 'hat':5.95, 'book':25, 'keychain':5}"
   ]
  },
  {
   "cell_type": "code",
   "execution_count": 2,
   "id": "a9c231f4-a655-4762-bedf-50c30f4a14f4",
   "metadata": {},
   "outputs": [],
   "source": [
    "def initialize_inventory(products):\n",
    "    inventory = {product: int(input(f\"How many {product}s are there in the warehouse: \")) for product in products}\n",
    "    return inventory"
   ]
  },
  {
   "cell_type": "code",
   "execution_count": 3,
   "id": "3276d713-17f1-4948-b422-9450ced7cd0d",
   "metadata": {},
   "outputs": [
    {
     "name": "stdin",
     "output_type": "stream",
     "text": [
      "How many t-shirts are there in the warehouse:  50\n",
      "How many mugs are there in the warehouse:  40\n",
      "How many hats are there in the warehouse:  30\n",
      "How many books are there in the warehouse:  60\n",
      "How many keychains are there in the warehouse:  45\n"
     ]
    }
   ],
   "source": [
    "inventory = initialize_inventory(products)"
   ]
  },
  {
   "cell_type": "code",
   "execution_count": 4,
   "id": "342d430b-563b-429c-be6a-faa8ab64120c",
   "metadata": {},
   "outputs": [
    {
     "name": "stdout",
     "output_type": "stream",
     "text": [
      "Inventory: {'t-shirt': 50, 'mug': 40, 'hat': 30, 'book': 60, 'keychain': 45}\n"
     ]
    }
   ],
   "source": [
    "print(\"Inventory:\", inventory)"
   ]
  },
  {
   "cell_type": "code",
   "execution_count": 5,
   "id": "5e762a5c-17fe-40af-9f35-1827067e0363",
   "metadata": {},
   "outputs": [],
   "source": [
    "def get_customer_orders():\n",
    "    customer_orders = int(input(\"How many different products do you want to order? \"))\n",
    "    return {input(f\"Enter the name of product #{i + 1}: \").strip().lower() for i in range(customer_orders)}"
   ]
  },
  {
   "cell_type": "code",
   "execution_count": 6,
   "id": "6acd5ee6-948c-4b5e-ae55-31269b5eac63",
   "metadata": {},
   "outputs": [
    {
     "name": "stdin",
     "output_type": "stream",
     "text": [
      "How many different products do you want to order?  3\n",
      "Enter the name of product #1:  book\n",
      "Enter the name of product #2:  mug\n",
      "Enter the name of product #3:  t-shirt\n"
     ]
    }
   ],
   "source": [
    "customer_orders = get_customer_orders()"
   ]
  },
  {
   "cell_type": "code",
   "execution_count": 7,
   "id": "1c3764ea-c90a-45d6-8c10-b8d2b9b6ab3a",
   "metadata": {},
   "outputs": [
    {
     "name": "stdout",
     "output_type": "stream",
     "text": [
      "Customer Orders: {'book', 't-shirt', 'mug'}\n"
     ]
    }
   ],
   "source": [
    "print(\"Customer Orders:\", customer_orders)"
   ]
  },
  {
   "cell_type": "code",
   "execution_count": 8,
   "id": "5d0547de-cbb0-4549-aacd-49e0412ad21a",
   "metadata": {},
   "outputs": [],
   "source": [
    "def calculate_total_price(customer_orders):\n",
    "    return sum(\n",
    "        float(input(f\"Enter the price for {product}: \"))\n",
    "        for product in customer_orders\n",
    "    )"
   ]
  },
  {
   "cell_type": "code",
   "execution_count": 9,
   "id": "d9d3f306-d540-48e3-98aa-11f7fcec3a5e",
   "metadata": {},
   "outputs": [
    {
     "name": "stdin",
     "output_type": "stream",
     "text": [
      "Enter the price for book:  25\n",
      "Enter the price for t-shirt:  20\n",
      "Enter the price for mug:  9.95\n"
     ]
    }
   ],
   "source": [
    "total_price = calculate_total_price(customer_orders) "
   ]
  },
  {
   "cell_type": "code",
   "execution_count": 10,
   "id": "c5db4a4e-a8a1-42b1-a525-656b7540183a",
   "metadata": {},
   "outputs": [],
   "source": [
    "def calculate_order_stats(customer_orders, products):\n",
    "    total_products_ordered = len(customer_orders)\n",
    "    percentage_of_products_ordered = (total_products_ordered / len(products)) * 100\n",
    "    return total_products_ordered, int(percentage_of_products_ordered)"
   ]
  },
  {
   "cell_type": "code",
   "execution_count": 11,
   "id": "793d9c81-043b-439c-834d-b88cd4eaf6da",
   "metadata": {},
   "outputs": [],
   "source": [
    "total_products_ordered, percentage_of_products_ordered = calculate_order_stats(\n",
    "    customer_orders, products\n",
    ")"
   ]
  },
  {
   "cell_type": "code",
   "execution_count": 12,
   "id": "f53b617d-9222-4f57-a434-872c0edfd625",
   "metadata": {},
   "outputs": [],
   "source": [
    "def update_inventory(inventory, customer_orders):\n",
    "    for item in customer_orders:\n",
    "        if item in inventory and inventory[item] > 0:\n",
    "            inventory[item] -= 1\n",
    "    return {product: qty for product, qty in inventory.items() if qty > 0}"
   ]
  },
  {
   "cell_type": "code",
   "execution_count": 14,
   "id": "38dcb295-f38d-4eed-8e62-b0f7a815b418",
   "metadata": {},
   "outputs": [],
   "source": [
    "inventory = update_inventory(inventory, customer_orders)"
   ]
  },
  {
   "cell_type": "code",
   "execution_count": 15,
   "id": "911f8df4-280c-4cb0-8680-83a22516582c",
   "metadata": {},
   "outputs": [
    {
     "name": "stdout",
     "output_type": "stream",
     "text": [
      "Updated Inventory: {'t-shirt': 49, 'mug': 39, 'hat': 30, 'book': 59, 'keychain': 45}\n"
     ]
    }
   ],
   "source": [
    "print(\"Updated Inventory:\", inventory)"
   ]
  },
  {
   "cell_type": "code",
   "execution_count": 16,
   "id": "102eed2e-153d-49fc-b206-10fa3226be98",
   "metadata": {},
   "outputs": [],
   "source": [
    "def print_order_stats(total_products_ordered, percentage_of_products_ordered):\n",
    "    print(\"Order Statistics:\")\n",
    "    print(\"Total Products Ordered:\", total_products_ordered)\n",
    "    print(\"Percentage of Products Ordered:\", int(percentage_of_products_ordered), \"%\")"
   ]
  },
  {
   "cell_type": "code",
   "execution_count": 17,
   "id": "1aa1fe84-9a0f-49c7-98eb-5328f6b2209c",
   "metadata": {},
   "outputs": [],
   "source": [
    "def print_updated_inventory(inventory):\n",
    "    print(\"Updated Inventory:\")\n",
    "    for product, quantity in inventory.items():\n",
    "        print(f\"{product}: {quantity}\")"
   ]
  },
  {
   "cell_type": "code",
   "execution_count": 21,
   "id": "c088e48b-4e8d-486c-9f51-f985595e4490",
   "metadata": {},
   "outputs": [
    {
     "name": "stdout",
     "output_type": "stream",
     "text": [
      "Order Statistics:\n",
      "Total Products Ordered: 3\n",
      "Percentage of Products Ordered: 60 %\n",
      "Updated Inventory:\n",
      "t-shirt: 49\n",
      "mug: 39\n",
      "hat: 30\n",
      "book: 59\n",
      "keychain: 45\n",
      "Total Price: 54.95\n"
     ]
    }
   ],
   "source": [
    "print_order_stats(total_products_ordered, percentage_of_products_ordered)\n",
    "print_updated_inventory(inventory)\n",
    "print(\"Total Price:\", total_price)"
   ]
  }
 ],
 "metadata": {
  "kernelspec": {
   "display_name": "Python 3 (ipykernel)",
   "language": "python",
   "name": "python3"
  },
  "language_info": {
   "codemirror_mode": {
    "name": "ipython",
    "version": 3
   },
   "file_extension": ".py",
   "mimetype": "text/x-python",
   "name": "python",
   "nbconvert_exporter": "python",
   "pygments_lexer": "ipython3",
   "version": "3.13.3"
  }
 },
 "nbformat": 4,
 "nbformat_minor": 5
}
